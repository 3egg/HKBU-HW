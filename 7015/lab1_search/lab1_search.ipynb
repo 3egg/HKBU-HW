{
 "cells": [
  {
   "cell_type": "markdown",
   "metadata": {
    "id": "QBmfNrus59Cu"
   },
   "source": [
    "# COMP7015: Artificial Intelligence *(Semester 1, 2022/23)*\n",
    "\n",
    "# Lab1: Solving problems using Search\n",
    "\n",
    "In this lab session, we will learn how to solve problems using search algorithms. Specifically, we will learn the implementation of BFS, DFS, uniform-cost search and greedy search using the path-finding problem. The A* search will be left to you as an exercise.\n",
    "\n",
    "\n",
    "**Instructor: Dr. Kejing Yin (Department of Computer Science, Hong Kong Baptist University)**\n",
    "\n",
    "*This lab sheet is created by Dr. Kejing Yin and is licenced under MIT license.*\n",
    "\n",
    "> MIT License\n",
    "> \n",
    "> Copyright (c) 2022 Kejing Yin\n",
    "> \n",
    "> Permission is hereby granted, free of charge, to any person obtaining a copy\n",
    "> of this software and associated documentation files (the \"Software\"), to deal\n",
    "> in the Software without restriction, including without limitation the rights\n",
    "> to use, copy, modify, merge, publish, distribute, sublicense, and/or sell\n",
    "> copies of the Software, and to permit persons to whom the Software is\n",
    "> furnished to do so, subject to the following conditions:\n",
    "> \n",
    "> The above copyright notice and this permission notice shall be included in all\n",
    "> copies or substantial portions of the Software.\n",
    "> \n",
    "> THE SOFTWARE IS PROVIDED \"AS IS\", WITHOUT WARRANTY OF ANY KIND, EXPRESS OR\n",
    "> IMPLIED, INCLUDING BUT NOT LIMITED TO THE WARRANTIES OF MERCHANTABILITY,\n",
    "> FITNESS FOR A PARTICULAR PURPOSE AND NONINFRINGEMENT. IN NO EVENT SHALL THE\n",
    "> AUTHORS OR COPYRIGHT HOLDERS BE LIABLE FOR ANY CLAIM, DAMAGES OR OTHER\n",
    "> LIABILITY, WHETHER IN AN ACTION OF CONTRACT, TORT OR OTHERWISE, ARISING FROM,\n",
    "> OUT OF OR IN CONNECTION WITH THE SOFTWARE OR THE USE OR OTHER DEALINGS IN THE\n",
    "> SOFTWARE."
   ]
  },
  {
   "cell_type": "markdown",
   "metadata": {},
   "source": [
    "## 1. Finst-in, first-out (FIFO) approach and last-in, first-out (LIFO) approach"
   ]
  },
  {
   "cell_type": "markdown",
   "metadata": {},
   "source": [
    "<div>\n",
    "    <img src=\"figs/fifo_lifo.png\"/>\n",
    "</div>\n",
    "\n",
    "\n",
    "**FIFO**: the last element inserted/recorded is consumed first.\n",
    "\n",
    "**LIFO**: the oldest element is consumed first (e.g., washing a pile of plates in cafe)."
   ]
  },
  {
   "cell_type": "markdown",
   "metadata": {},
   "source": [
    "In Python, the *easiest* way (not the *best* way though) is to use `list`. Let's see an example:"
   ]
  },
  {
   "cell_type": "code",
   "execution_count": null,
   "metadata": {},
   "outputs": [],
   "source": [
    "# Define am empty list named \"frontiers\"\n",
    "frontiers = []\n",
    "print(frontiers)\n",
    "\n",
    "# We can simply append elements to the list\n",
    "for x in ['A', 'B', 'C']:\n",
    "    frontiers.append(x)\n",
    "    print(frontiers)"
   ]
  },
  {
   "cell_type": "markdown",
   "metadata": {},
   "source": [
    "We use the `.pop(i)` method to retrieve the i-th position in the list and remove it from the list. We can use `.pop(0)` and `.pop(-1)` to get the first and the last elements in the list, respectively. For example:"
   ]
  },
  {
   "cell_type": "code",
   "execution_count": null,
   "metadata": {
    "id": "9eBdGN4QbQIu"
   },
   "outputs": [],
   "source": [
    "print(frontiers.pop(0))  # get the first element in the list\n",
    "print(frontiers)  # now the first element is removed from the list"
   ]
  },
  {
   "cell_type": "code",
   "execution_count": null,
   "metadata": {},
   "outputs": [],
   "source": [
    "print(frontiers.pop(-1))  # get the last element in the list\n",
    "print(frontiers)  # now the last element is removed from the list"
   ]
  },
  {
   "cell_type": "markdown",
   "metadata": {},
   "source": [
    "In our implementation of search algorithms, we use lists to store the frontier nodes and visited nodes.\n",
    "\n",
    "* **Optional**: using `list` is not the best way because: 1) it can be quite inefficient in real-world applications, and 2) it only allows one producer and one consumer. A more decent way is to use the `queue` package provided by Python. See https://docs.python.org/3/library/queue.html for its documentation. If you are interested, try to use it to implement the search algorithms."
   ]
  },
  {
   "cell_type": "markdown",
   "metadata": {},
   "source": [
    "## 2. Pseudo-codes of search algorithms"
   ]
  },
  {
   "cell_type": "markdown",
   "metadata": {},
   "source": [
    "All search algorithms can be summarized using the following pseudo codes.\n",
    "</br>\n",
    "</br>\n",
    "<div>\n",
    "    <img src=\"figs/pseudo_code.png\" width=600px/>\n",
    "</div>\n",
    "The differences between different algorithms is how they choose the node to be expanded next, and when to test if the node is a goal state."
   ]
  },
  {
   "cell_type": "markdown",
   "metadata": {},
   "source": [
    "## 3. How to `expand` a node\n",
    "\n",
    "For each search problem, we need to know all possible actions and the associated costs from a particular state and the resulting state of taking each action. In the path-finding problem, for each state (location in the map), we can simply store the locations that we can go to from the given location and the cost of taking each action. For example, given the following map:\n",
    "\n",
    "\n",
    "<div>\n",
    "    <img src=\"figs/map1.png\" width=\"400px\"/>\n",
    "</div>\n",
    "\n",
    "we can use a `dict` to represent this graph to be searched on."
   ]
  },
  {
   "cell_type": "code",
   "execution_count": null,
   "metadata": {},
   "outputs": [],
   "source": [
    "graph = {\n",
    "    'A': [('B', 1), ('D', 2)],  # from A, we can go to B and D\n",
    "    'B': [('A', 1), ('C', 4), ('D', 2)],  # from B, we can go to A, C, and D\n",
    "    'C': [('B', 4)],  # from C, we can go to B\n",
    "    'D': [('A', 2), ('B', 2)]  # from D, we can got to A and B\n",
    "}"
   ]
  },
  {
   "cell_type": "code",
   "execution_count": null,
   "metadata": {},
   "outputs": [],
   "source": [
    "# to retrieve the actions, we can use the current state to index this dict\n",
    "print(graph['B'])  # print out the possible actions from the location B"
   ]
  },
  {
   "cell_type": "markdown",
   "metadata": {},
   "source": [
    "Later, we will see how to define a function to get possible actions from each state for other problems like 8-puzzle."
   ]
  },
  {
   "cell_type": "markdown",
   "metadata": {},
   "source": [
    "### *Try it out!*\n",
    "\n",
    "Represent the following map in a `dict` named \"romanian_graph\".\n",
    "\n",
    "<div>\n",
    "    <img src=\"figs/romanian_graph.png\" width=\"100%\"/>\n",
    "</div>\n"
   ]
  },
  {
   "cell_type": "code",
   "execution_count": null,
   "metadata": {},
   "outputs": [],
   "source": [
    "romanian_graph = {\n",
    "    'Arad': [('Zerind', 75), ('Sibiu', 140), ('Timisoara', 118)],  # finish the remaining\n",
    "    \n",
    "}"
   ]
  },
  {
   "cell_type": "markdown",
   "metadata": {},
   "source": [
    "## 4. Breadth-first Search (BFS)"
   ]
  },
  {
   "cell_type": "code",
   "execution_count": null,
   "metadata": {},
   "outputs": [],
   "source": [
    "def bfs(graph_to_search, initial_state, goal_state, verbose=False):\n",
    "    # this is a list of a list because we need to eventually return\n",
    "    # the entire PATH from the initial state to the goal state. So,\n",
    "    # each element in this list represents a path from the the initial\n",
    "    # state to one frontier node. We use the first element in each path\n",
    "    # to represent the cost.\n",
    "    frontiers = [[0, initial_state]]  # the frontier list only has the initial state, with a cost of 0.\n",
    "    visited = []\n",
    "\n",
    "    while len(frontiers) > 0:   # use while loop to iteratively perform search\n",
    "        if verbose:  # print out detailed information in each iteration\n",
    "            print('Frontiers (paths):')\n",
    "            for x in frontiers:\n",
    "                print('  -', x)\n",
    "            print('Visited:', visited)\n",
    "            print('\\n')\n",
    "        \n",
    "        path = frontiers.pop(0)  # Get the first element in the list\n",
    "        node = path[-1]  # Get the last node in this path\n",
    "        \n",
    "        if node in visited:  # check if we have expanded this node, if yes then skip this\n",
    "            continue\n",
    "            \n",
    "        actions = graph_to_search[node] # get the possible actions\n",
    "        for next_node, next_cost in actions:\n",
    "            new_path = path.copy()\n",
    "            new_path.append(next_node)\n",
    "            new_path[0] = new_path[0] + next_cost\n",
    "            \n",
    "            if next_node in visited or new_path in frontiers:\n",
    "                continue  # skip this node if it is already in the frontiers or the visited list.\n",
    "            \n",
    "            # check if we reached the goal state or not\n",
    "            if next_node == goal_state:\n",
    "                goal_path = new_path[1:]\n",
    "                goal_cost = new_path[0]\n",
    "                return goal_path, goal_cost  # if yes, we can return this path and its cost\n",
    "            else:\n",
    "                frontiers.append(new_path)  # add to the frontiers\n",
    "        \n",
    "        # after exploring all actions, we add this node to the visited list\n",
    "        visited.append(node)\n",
    "\n",
    "    return None"
   ]
  },
  {
   "cell_type": "code",
   "execution_count": null,
   "metadata": {},
   "outputs": [],
   "source": [
    "graph = {\n",
    "    'A': [('B', 1), ('D', 2)],\n",
    "    'B': [('A', 1), ('C', 4), ('D', 2)],\n",
    "    'C': [('B', 4)],\n",
    "    'D': [('A', 2), ('B', 2)]\n",
    "}\n",
    "\n",
    "path, cost = bfs(graph, 'A', 'C')\n",
    "print('The solution is:', path)\n",
    "print('The cost is:', cost)"
   ]
  },
  {
   "cell_type": "code",
   "execution_count": null,
   "metadata": {},
   "outputs": [],
   "source": [
    "# set `verbose=True` to print out the frontiers and visited list in each iteration\n",
    "path, cost = bfs(graph, 'A', 'C', verbose=True)"
   ]
  },
  {
   "cell_type": "markdown",
   "metadata": {},
   "source": [
    "### *Try it out!*"
   ]
  },
  {
   "cell_type": "code",
   "execution_count": null,
   "metadata": {
    "scrolled": true
   },
   "outputs": [],
   "source": [
    "# Try it out!\n",
    "# Find a path from Arad to Bucharest in the Romannian map using BFS\n",
    "\n",
    "path, cost = \n",
    "print('The solution is:', path)\n",
    "print('The cost is:', cost)"
   ]
  },
  {
   "cell_type": "code",
   "execution_count": null,
   "metadata": {
    "scrolled": true
   },
   "outputs": [],
   "source": [
    "# Find a path from Arad to Craiova in the Romannian map using BFS\n",
    "\n",
    "path, cost = \n",
    "print('The solution is:', path)\n",
    "print('The cost is:', cost)"
   ]
  },
  {
   "cell_type": "code",
   "execution_count": null,
   "metadata": {
    "scrolled": true
   },
   "outputs": [],
   "source": [
    "# Find a path from Arad to Vaslui in the Romannian map using BFS\n",
    "\n",
    "path, cost = \n",
    "print('The solution is:', path)\n",
    "print('The cost is:', cost)"
   ]
  },
  {
   "cell_type": "markdown",
   "metadata": {},
   "source": [
    "## 5. Graph Depth-first Search (DFS; graph)\n",
    "\n",
    "When DFS is implemented in graph search, we record the visited nodes to avoid revisiting them. The implementation is very similar to BFS. The only difference is that we retrieve the last node from the frontiers instead of the first one."
   ]
  },
  {
   "cell_type": "markdown",
   "metadata": {},
   "source": [
    "### *Try it out!*\n",
    "Copy the previous `bfs` function, rename it to `dfs` and modify it to perform a graph dfs. Test it with the Romannian map."
   ]
  },
  {
   "cell_type": "code",
   "execution_count": null,
   "metadata": {},
   "outputs": [],
   "source": []
  },
  {
   "cell_type": "code",
   "execution_count": null,
   "metadata": {
    "scrolled": true
   },
   "outputs": [],
   "source": [
    "# Try it out!\n",
    "# Find a path from Arad to Bucharest in the Romannian map using DFS\n",
    "\n",
    "path, cost = \n",
    "print('The solution is:', path)\n",
    "print('The cost is:', cost)"
   ]
  },
  {
   "cell_type": "code",
   "execution_count": null,
   "metadata": {
    "scrolled": true
   },
   "outputs": [],
   "source": [
    "# Find a path from Arad to Craiova in the Romannian map using DFS\n",
    "\n",
    "path, cost = \n",
    "print('The solution is:', path)\n",
    "print('The cost is:', cost)"
   ]
  },
  {
   "cell_type": "code",
   "execution_count": null,
   "metadata": {
    "scrolled": true
   },
   "outputs": [],
   "source": [
    "# Find a path from Arad to Vaslui in the Romannian map using DFS\n",
    "\n",
    "path, cost = \n",
    "print('The solution is:', path)\n",
    "print('The cost is:', cost)"
   ]
  },
  {
   "cell_type": "markdown",
   "metadata": {},
   "source": [
    "## 6. Uniform-cost Search\n",
    "\n",
    "For uniform-cost search, there are two points that we need to pay attention to:\n",
    "- First, we check if a node is a goal state **when we expand it**. Think about how to do this in the codes.\n",
    "- Second, we select the node from frontiers with the **smallest path cost** from the initial state."
   ]
  },
  {
   "cell_type": "markdown",
   "metadata": {},
   "source": [
    "#### A hint: select the smallest path cost"
   ]
  },
  {
   "cell_type": "code",
   "execution_count": null,
   "metadata": {},
   "outputs": [],
   "source": [
    "# For example, we have the following list of frontiers:\n",
    "frontiers = [\n",
    "    [3, 'S', 'A'],\n",
    "    [1, 'S', 'B'],\n",
    "    [2, 'S', 'C']\n",
    "]\n",
    "\n",
    "# We could sort them first:\n",
    "print('Before sorting:', frontiers)\n",
    "\n",
    "frontiers = sorted(frontiers, key=lambda x: x[0])\n",
    "\n",
    "print('After sorting: ', frontiers)\n",
    "\n",
    "\n",
    "# Then, we can pop the first element.\n",
    "print()\n",
    "print(frontiers.pop(0))"
   ]
  },
  {
   "cell_type": "markdown",
   "metadata": {},
   "source": [
    "### *Try it out!*\n",
    "Make use of the above hint, copy the previous bfs function, rename it to `uniform_cost_search` and modify it to perform uniform cost search."
   ]
  },
  {
   "cell_type": "code",
   "execution_count": null,
   "metadata": {},
   "outputs": [],
   "source": []
  },
  {
   "cell_type": "code",
   "execution_count": null,
   "metadata": {
    "scrolled": true
   },
   "outputs": [],
   "source": [
    "# Try it out!\n",
    "# Find a path from Arad to Bucharest in the Romannian map using BFS\n",
    "\n",
    "path, cost = \n",
    "print('The solution is:', path)\n",
    "print('The cost is:', cost)"
   ]
  },
  {
   "cell_type": "code",
   "execution_count": null,
   "metadata": {
    "scrolled": true
   },
   "outputs": [],
   "source": [
    "# Find a path from Arad to Craiova in the Romannian map using uniform-cost search\n",
    "\n",
    "path, cost = \n",
    "print('The solution is:', path)\n",
    "print('The cost is:', cost)"
   ]
  },
  {
   "cell_type": "code",
   "execution_count": null,
   "metadata": {},
   "outputs": [],
   "source": [
    "# Find a path from Arad to Vaslui in the Romannian map using uniform-cost search\n",
    "\n",
    "path, cost = \n",
    "print('The solution is:', path)\n",
    "print('The cost is:', cost)"
   ]
  },
  {
   "cell_type": "markdown",
   "metadata": {},
   "source": [
    "### Compare the path and cost found using the three methods, what is your observation? Explain the differences using what you learnt from the lecture."
   ]
  },
  {
   "cell_type": "code",
   "execution_count": null,
   "metadata": {},
   "outputs": [],
   "source": []
  },
  {
   "cell_type": "code",
   "execution_count": null,
   "metadata": {},
   "outputs": [],
   "source": []
  },
  {
   "cell_type": "markdown",
   "metadata": {},
   "source": [
    "## 7. Greedy Search\n",
    "In greedy search, we need to define a **`heuristic function`** $h(n)$ that tells us the estimated cost of the cheapest path from a particular state to a goal state. In this path-finding problem, we make it simpler by using another `dict` to store the straight-line distance from each city to our goal, Bucharest."
   ]
  },
  {
   "cell_type": "code",
   "execution_count": null,
   "metadata": {},
   "outputs": [],
   "source": [
    "def sld_to_bucharest(city):\n",
    "    \"\"\"This function returns the straight-line distance from the given city to Bucharest.\"\"\"\n",
    "    sld = {\n",
    "        'Arad': 366,\n",
    "        'Bucharest': 0,\n",
    "        'Craiova': 160,\n",
    "        'Drobeta': 242,\n",
    "        'Eforie': 161,\n",
    "        'Fagaras': 176,\n",
    "        'Giurgiu': 77,\n",
    "        'Hirsova': 151,\n",
    "        'Iasi': 226,\n",
    "        'Lugoj': 244,\n",
    "        'Mehadia': 241,\n",
    "        'Neamt': 234,\n",
    "        'Oradea': 380,\n",
    "        'Pitesti': 100,\n",
    "        'Rimnicu Vilcea': 193,\n",
    "        'Sibiu': 253,\n",
    "        'Timisoara': 329,\n",
    "        'Urzicenzi': 80,\n",
    "        'Vaslui': 199,\n",
    "        'Zerind': 374\n",
    "    }\n",
    "    return sld[city]"
   ]
  },
  {
   "cell_type": "markdown",
   "metadata": {},
   "source": [
    "#### Hint: Find the element with the lowest $h(n)$ in a given list"
   ]
  },
  {
   "cell_type": "code",
   "execution_count": null,
   "metadata": {},
   "outputs": [],
   "source": [
    "# Suppose given the following cities\n",
    "cities = ['Arad', 'Eforie', 'Oradea']\n",
    "\n",
    "# We would like to pop the city that is closest to Bucharest from this list using the above sld_to_bucharest function.\n",
    "# first, we can construct a list that contains the distance from each city to Bucharest.\n",
    "dist = []\n",
    "for city in cities:\n",
    "    dist.append(sld_to_bucharest(city))\n",
    "\n",
    "# now we have a list of distances from each city to Bucharest.\n",
    "print(dist)\n",
    "\n",
    "# then, we can find the index of the minimum value.\n",
    "# min(dist) returns the minimum value in the dist list, \n",
    "# dist.index() finds the index of the given value\n",
    "idx = dist.index(min(dist))\n",
    "print('The index of the closest city is:', idx)\n",
    "\n",
    "# then we can pop the city using the index found.\n",
    "closest_city = cities.pop(idx)\n",
    "print('The closest city is:', closest_city)\n",
    "print('The distance is:', sld_to_bucharest(closest_city))\n",
    "print('The remaining elements in `cities` are:', cities)"
   ]
  },
  {
   "cell_type": "markdown",
   "metadata": {},
   "source": [
    "### *Try it out!*\n",
    "The difference between greedy search and BFS is that we expand the node with *lowest* $h(n)$. Copy the bfs function, rename it to `greedy_search` and modify it with the help of the heuristic function we defined above to perform greedy search."
   ]
  },
  {
   "cell_type": "code",
   "execution_count": null,
   "metadata": {},
   "outputs": [],
   "source": [
    "def greedy_search(graph_to_search, initial_state, goal_state, heuristics_function, verbose=False):\n",
    "    # We add one more argument, heuristics_function, to allow different heuristic functions to be used\n",
    "    # without changing the implementation source codes."
   ]
  },
  {
   "cell_type": "code",
   "execution_count": null,
   "metadata": {
    "scrolled": true
   },
   "outputs": [],
   "source": [
    "# Run this after you implement the algorithm, see if it gives you the correct answer.\n",
    "# Find a path from Arad to Bucharest in the Romannian map using greedy search\n",
    "\n",
    "path, cost = greedy_search(romanian_graph, 'Arad', 'Bucharest', heuristics_function=sld_to_bucharest, verbose=True)\n",
    "print('The solution is:', path)\n",
    "print('The cost is:', cost)"
   ]
  },
  {
   "cell_type": "markdown",
   "metadata": {
    "id": "WfZ9w0h3yRSm"
   },
   "source": [
    "## 8. A* Search\n",
    "For A* search, we compute the sum of the cost of the path $g(n)$ and the heuristic function $h(n)$, and select the node with *lowest* $h(n)+g(n)$ to expand. Besides, similar to the uniform-cost search, we check the goal state when we **expand it**.  Copy the greedy search function, rename it to `a_star_search` and modify it to perform greedy search. You could make reference to the unifrom-cost search codes to check the goal state when expanding the node."
   ]
  },
  {
   "cell_type": "markdown",
   "metadata": {},
   "source": [
    "### *Try it out!*\n",
    "Copy the greedy function, rename it to `a_star_search` and modify it to perform A* search."
   ]
  },
  {
   "cell_type": "code",
   "execution_count": null,
   "metadata": {},
   "outputs": [],
   "source": []
  },
  {
   "cell_type": "code",
   "execution_count": null,
   "metadata": {
    "id": "aC7bwiYgH78J"
   },
   "outputs": [],
   "source": [
    "# Try it out!\n",
    "# Find a path from Arad to Bucharest in the Romannian map using A* search\n",
    "\n",
    "path, cost = \n",
    "print('The solution is:', path)\n",
    "print('The cost is:', cost)"
   ]
  },
  {
   "cell_type": "markdown",
   "metadata": {},
   "source": [
    "### What happens if we have a heuristic function that overestimates the cost?"
   ]
  },
  {
   "cell_type": "markdown",
   "metadata": {},
   "source": [
    "### *Try it out!*\n",
    "Define a heuristic function that returns the doubled straight-line distance from each city to Bucharest. Hint: you do not need to recode the dict again, just make use of the predefined `sld_to_bucharest` function."
   ]
  },
  {
   "cell_type": "code",
   "execution_count": null,
   "metadata": {},
   "outputs": [],
   "source": []
  },
  {
   "cell_type": "markdown",
   "metadata": {},
   "source": [
    "Perform A* search using this new heuristic function to find a way from Arad to Bucharest."
   ]
  },
  {
   "cell_type": "code",
   "execution_count": null,
   "metadata": {},
   "outputs": [],
   "source": [
    "path, cost = \n",
    "print('The solution is:', path)\n",
    "print('The cost is:', cost)"
   ]
  },
  {
   "cell_type": "markdown",
   "metadata": {},
   "source": [
    "### Compare the results of using the two different heuristic functions, what are your observations? Try to explain the differences using what we learnt from the lectures."
   ]
  },
  {
   "cell_type": "code",
   "execution_count": null,
   "metadata": {},
   "outputs": [],
   "source": []
  }
 ],
 "metadata": {
  "authors": [
   {
    "email": "cskjyin@comp.hkbu.edu.hk",
    "name": "Dr. Kejing Yin"
   }
  ],
  "kernelspec": {
   "display_name": "Python 3.9.7 ('base')",
   "language": "python",
   "name": "python3"
  },
  "language_info": {
   "codemirror_mode": {
    "name": "ipython",
    "version": 3
   },
   "file_extension": ".py",
   "mimetype": "text/x-python",
   "name": "python",
   "nbconvert_exporter": "python",
   "pygments_lexer": "ipython3",
   "version": "3.9.7"
  },
  "title": "COMP7015 Lab 1: Solving Problems using Search",
  "vscode": {
   "interpreter": {
    "hash": "f90bbf7985f2e386e054d57f9f24ffeb163cbc33ce80b1a859df2b0f2c9d1e26"
   }
  }
 },
 "nbformat": 4,
 "nbformat_minor": 1
}
