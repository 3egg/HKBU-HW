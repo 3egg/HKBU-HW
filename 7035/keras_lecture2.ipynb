{
 "cells": [
  {
   "cell_type": "code",
   "execution_count": 70,
   "metadata": {
    "colab": {
     "base_uri": "https://localhost:8080/"
    },
    "id": "EXE483S2NeSb",
    "outputId": "5f8712a3-e430-43bf-b689-f123f8f70ac3"
   },
   "outputs": [
    {
     "name": "stdout",
     "output_type": "stream",
     "text": [
      "Model: \"sequential_34\"\n",
      "_________________________________________________________________\n",
      " Layer (type)                Output Shape              Param #   \n",
      "=================================================================\n",
      " reshape_28 (Reshape)        (None, 64, 64, 16)        0         \n",
      "                                                                 \n",
      " conv2d_60 (Conv2D)          (None, 60, 60, 32)        12832     \n",
      "                                                                 \n",
      " max_pooling2d_29 (MaxPoolin  (None, 30, 30, 32)       0         \n",
      " g2D)                                                            \n",
      "                                                                 \n",
      " conv2d_61 (Conv2D)          (None, 30, 30, 1)         33        \n",
      "                                                                 \n",
      " flatten_4 (Flatten)         (None, 900)               0         \n",
      "                                                                 \n",
      " dense_4 (Dense)             (None, 16)                14416     \n",
      "                                                                 \n",
      "=================================================================\n",
      "Total params: 27,281\n",
      "Trainable params: 27,281\n",
      "Non-trainable params: 0\n",
      "_________________________________________________________________\n"
     ]
    }
   ],
   "source": [
    "# Define the model using functional API:\n",
    "from keras.models import Sequential\n",
    "from keras.layers import Dense,Conv2D,MaxPool2D,Input,Reshape,Flatten\n",
    "import keras\n",
    "import numpy as np\n",
    "\n",
    "layers = [Input(shape=(256,256,1)),\n",
    "      Reshape((64,64,-1)),\n",
    "      Conv2D(filters=32,kernel_size=5),\n",
    "      MaxPool2D(2),\n",
    "      Conv2D(filters=1,kernel_size=1),\n",
    "      Flatten(),\n",
    "      Dense(16,activation='sigmoid')]\n",
    "model = Sequential(layers)\n",
    "model.summary()"
   ]
  },
  {
   "cell_type": "code",
   "execution_count": 71,
   "metadata": {
    "colab": {
     "base_uri": "https://localhost:8080/"
    },
    "id": "LZWO8mtWQi_B",
    "outputId": "6f55bef3-3102-4482-8869-56db6e6ab0ce"
   },
   "outputs": [
    {
     "name": "stdout",
     "output_type": "stream",
     "text": [
      "Model: \"model_1\"\n",
      "__________________________________________________________________________________________________\n",
      " Layer (type)                   Output Shape         Param #     Connected to                     \n",
      "==================================================================================================\n",
      " input_46 (InputLayer)          [(None, 256, 256, 1  0           []                               \n",
      "                                )]                                                                \n",
      "                                                                                                  \n",
      " reshape_29 (Reshape)           (None, 64, 64, 16)   0           ['input_46[0][0]']               \n",
      "                                                                                                  \n",
      " conv2d_63 (Conv2D)             (None, 240, 240, 8)  2320        ['input_46[0][0]']               \n",
      "                                                                                                  \n",
      " conv2d_62 (Conv2D)             (None, 60, 60, 8)    3208        ['reshape_29[0][0]']             \n",
      "                                                                                                  \n",
      " max_pooling2d_30 (MaxPooling2D  (None, 60, 60, 8)   0           ['conv2d_63[0][0]']              \n",
      " )                                                                                                \n",
      "                                                                                                  \n",
      " concatenate_18 (Concatenate)   (None, 60, 60, 16)   0           ['conv2d_62[0][0]',              \n",
      "                                                                  'max_pooling2d_30[0][0]']       \n",
      "                                                                                                  \n",
      "==================================================================================================\n",
      "Total params: 5,528\n",
      "Trainable params: 5,528\n",
      "Non-trainable params: 0\n",
      "__________________________________________________________________________________________________\n"
     ]
    }
   ],
   "source": [
    "# Define the model using functional API:\n",
    "from keras.models import Model\n",
    "from keras.layers import Dense,Conv2D,MaxPool2D,Input,Reshape,Flatten,concatenate\n",
    "import keras\n",
    "import numpy as np\n",
    "\n",
    "def my_model():\n",
    "  # define layers\n",
    "    input_tensor = Input(shape=(256,256,1))\n",
    "    reshape_layer = Reshape((64,64,-1))\n",
    "    conv2d_1 = Conv2D(filters=8,kernel_size=5)\n",
    "    conv2d_2 = Conv2D(filters=8,kernel_size=17)\n",
    "    max_pool_layer = MaxPool2D(4)\n",
    "\n",
    "    input_tensor_reshape = reshape_layer(input_tensor)\n",
    "    conv1_out = conv2d_1(input_tensor_reshape)\n",
    "    conv2_out = conv2d_2(input_tensor)\n",
    "    max_pool_out = max_pool_layer(conv2_out)\n",
    "    cat_out = concatenate([conv1_out,max_pool_out],axis=-1)\n",
    "    model = Model(inputs=input_tensor, outputs=cat_out)\n",
    "    return model\n",
    "\n",
    "my_model = my_model()\n",
    "my_model.summary()"
   ]
  },
  {
   "cell_type": "code",
   "execution_count": null,
   "metadata": {},
   "outputs": [],
   "source": []
  },
  {
   "cell_type": "code",
   "execution_count": 72,
   "metadata": {
    "colab": {
     "base_uri": "https://localhost:8080/"
    },
    "id": "vloUHp9uS70p",
    "outputId": "5cb1c5c3-898d-4384-83ee-26418bca3ced"
   },
   "outputs": [
    {
     "name": "stdout",
     "output_type": "stream",
     "text": [
      "Epoch 1/8\n",
      "422/422 [==============================] - 2s 4ms/step - loss: 0.2306 - accuracy: 0.9314 - val_loss: 0.1007 - val_accuracy: 0.9700\n",
      "Epoch 2/8\n",
      "422/422 [==============================] - 1s 3ms/step - loss: 0.0846 - accuracy: 0.9734 - val_loss: 0.0789 - val_accuracy: 0.9745\n",
      "Epoch 3/8\n",
      "422/422 [==============================] - 1s 3ms/step - loss: 0.0539 - accuracy: 0.9827 - val_loss: 0.0695 - val_accuracy: 0.9785\n",
      "Epoch 4/8\n",
      "422/422 [==============================] - 1s 3ms/step - loss: 0.0376 - accuracy: 0.9882 - val_loss: 0.0821 - val_accuracy: 0.9762\n",
      "Epoch 5/8\n",
      "422/422 [==============================] - 1s 3ms/step - loss: 0.0284 - accuracy: 0.9911 - val_loss: 0.0775 - val_accuracy: 0.9750\n",
      "Epoch 6/8\n",
      "422/422 [==============================] - 1s 3ms/step - loss: 0.0213 - accuracy: 0.9932 - val_loss: 0.0702 - val_accuracy: 0.9805\n",
      "Epoch 7/8\n",
      "422/422 [==============================] - 1s 3ms/step - loss: 0.0174 - accuracy: 0.9941 - val_loss: 0.0749 - val_accuracy: 0.9802\n",
      "Epoch 8/8\n",
      "422/422 [==============================] - 1s 3ms/step - loss: 0.0144 - accuracy: 0.9952 - val_loss: 0.0919 - val_accuracy: 0.9772\n"
     ]
    },
    {
     "data": {
      "text/plain": [
       "<keras.callbacks.History at 0x2243ad6a640>"
      ]
     },
     "execution_count": 72,
     "metadata": {},
     "output_type": "execute_result"
    }
   ],
   "source": [
    "import pandas as pd\n",
    "import keras\n",
    "from keras.models import Sequential\n",
    "from keras.layers import Dense,Input\n",
    "from keras.losses import SparseCategoricalCrossentropy\n",
    "\n",
    "df_orig_train = pd.read_csv('./mnist_train.csv',header=None)\n",
    "df_orig_test = pd.read_csv('./mnist_test.csv',header=None)\n",
    "df_train_values = df_orig_train.values\n",
    "df_test_values = df_orig_test.values\n",
    "train_feat_ori,train_label_ori = df_train_values[:,1:]/255.0,df_train_values[:,0]\n",
    "test_feat,test_label = df_test_values[:,1:]/255.0,df_test_values[:,0]\n",
    "train_feat,val_feat = train_feat_ori[6000:],train_feat_ori[:6000]\n",
    "train_label,val_label = train_label_ori[6000:],train_label_ori[:6000]\n",
    "\n",
    "model = Sequential()\n",
    "model.add(Input(shape=(784,)))\n",
    "model.add(Dense(512, activation='relu')) \n",
    "model.add(Dense(512, activation='relu')) \n",
    "model.add(Dense(10, activation='softmax'))\n",
    "model.compile(optimizer='adam',loss= 'sparse_categorical_crossentropy',metrics=['accuracy'])\n",
    "\n",
    "batch_size = 128\n",
    "epochs = 8\n",
    "model.fit(train_feat, train_label, batch_size=batch_size, epochs=epochs, validation_data = (val_feat,val_label))"
   ]
  },
  {
   "cell_type": "code",
   "execution_count": 75,
   "metadata": {},
   "outputs": [
    {
     "data": {
      "text/plain": [
       "array([5, 0, 4, ..., 5, 6, 8], dtype=int64)"
      ]
     },
     "execution_count": 75,
     "metadata": {},
     "output_type": "execute_result"
    }
   ],
   "source": [
    "df_train_values[:,0]"
   ]
  },
  {
   "cell_type": "code",
   "execution_count": 95,
   "metadata": {
    "colab": {
     "base_uri": "https://localhost:8080/"
    },
    "id": "7m7gXoO7VtdW",
    "outputId": "ce1be78b-d0cb-416e-d4af-362e0b0b87d6"
   },
   "outputs": [
    {
     "name": "stdout",
     "output_type": "stream",
     "text": [
      "[0/15]\n",
      "420/420 [==============================] - 9s 20ms/step - loss: 1.3219 - accuracy: 0.6071 - val_loss: 0.8920 - val_accuracy: 0.6444\n",
      "[1/15]\n",
      "420/420 [==============================] - 8s 20ms/step - loss: 0.7430 - accuracy: 0.7286 - val_loss: 0.5863 - val_accuracy: 0.7778\n",
      "[2/15]\n",
      "420/420 [==============================] - 8s 20ms/step - loss: 0.5262 - accuracy: 0.8381 - val_loss: 0.5150 - val_accuracy: 0.8000\n",
      "[3/15]\n",
      "420/420 [==============================] - 8s 20ms/step - loss: 0.5143 - accuracy: 0.8548 - val_loss: 0.6014 - val_accuracy: 0.8222\n",
      "[4/15]\n",
      "420/420 [==============================] - 9s 20ms/step - loss: 0.5481 - accuracy: 0.8452 - val_loss: 0.4123 - val_accuracy: 0.9333\n",
      "[5/15]\n",
      "420/420 [==============================] - 8s 20ms/step - loss: 0.4938 - accuracy: 0.8667 - val_loss: 0.2825 - val_accuracy: 0.9333\n",
      "[6/15]\n",
      "420/420 [==============================] - 9s 20ms/step - loss: 0.3668 - accuracy: 0.8857 - val_loss: 0.5664 - val_accuracy: 0.8667\n",
      "[7/15]\n",
      "420/420 [==============================] - 9s 20ms/step - loss: 0.3893 - accuracy: 0.8929 - val_loss: 0.4281 - val_accuracy: 0.8667\n",
      "[8/15]\n",
      "420/420 [==============================] - 8s 20ms/step - loss: 0.5055 - accuracy: 0.8643 - val_loss: 0.4525 - val_accuracy: 0.8444\n",
      "[9/15]\n",
      "420/420 [==============================] - 9s 20ms/step - loss: 0.3447 - accuracy: 0.8929 - val_loss: 0.2829 - val_accuracy: 0.8889\n",
      "[10/15]\n",
      "420/420 [==============================] - 9s 20ms/step - loss: 0.3499 - accuracy: 0.8905 - val_loss: 0.2614 - val_accuracy: 0.8889\n",
      "[11/15]\n",
      "420/420 [==============================] - 9s 21ms/step - loss: 0.4150 - accuracy: 0.8690 - val_loss: 0.2789 - val_accuracy: 0.9111\n",
      "[12/15]\n",
      "420/420 [==============================] - 9s 21ms/step - loss: 0.2156 - accuracy: 0.9357 - val_loss: 0.3282 - val_accuracy: 0.9333\n",
      "[13/15]\n",
      "420/420 [==============================] - 9s 21ms/step - loss: 0.4050 - accuracy: 0.8881 - val_loss: 0.2324 - val_accuracy: 0.9333\n",
      "[14/15]\n",
      "420/420 [==============================] - 9s 21ms/step - loss: 0.3714 - accuracy: 0.8976 - val_loss: 0.5058 - val_accuracy: 0.8667\n"
     ]
    }
   ],
   "source": [
    "import pandas as pd\n",
    "import keras\n",
    "from keras.models import Sequential\n",
    "from keras.layers import Dense,Input\n",
    "from keras.losses import SparseCategoricalCrossentropy\n",
    "\n",
    "import numpy as np\n",
    "import linecache\n",
    "import random\n",
    "class DataGenerator(keras.utils.all_utils.Sequence):\n",
    "#   'Generates data for Keras'\n",
    "    def __init__(self, csv_path, indexes, bs):\n",
    "    # initilizes some variables \n",
    "        self.csv_path = csv_path\n",
    "        self.norm_facor = 255.0\n",
    "        self.indexes = indexes\n",
    "        self.bs = bs\n",
    "        random.shuffle(self.indexes)\n",
    "    def __len__(self):\n",
    "    # return the total number of samples in the dataset\n",
    "        return (len(self.indexes))//self.bs-1\n",
    "    def __getitem__(self,index):\n",
    "    # get one sample according to the index\n",
    "        feat_all = []\n",
    "        label_all = []\n",
    "        for this_index in range(index*self.bs,(index+1)*self.bs):\n",
    "            line_index = self.indexes[index]\n",
    "            line_str = linecache.getline(self.csv_path,line_index)\n",
    "#             line_str.replace('[','').replace(']', '')\n",
    "#             print(line_str)\n",
    "            line_val = [int(i) for i in line_str.split(',') if len(i)]\n",
    "#             print(line_val)\n",
    "            label = line_val[0]\n",
    "            feat = np.array(line_val[1:])/self.norm_facor\n",
    "            feat_all.append(feat)\n",
    "            label_all.append(label)\n",
    "\n",
    "        return np.array(feat_all),np.array(label_all)\n",
    "    def shuffle(self):\n",
    "        random.shuffle(self.indexes)\n",
    "\n",
    "\n",
    "indexes = [i for i in range(60000)]\n",
    "train_index = indexes[6000:]\n",
    "val_index = indexes[:6000]\n",
    "batch_size = 128\n",
    "train_set = DataGenerator('./mnist_train.csv',train_index,batch_size)\n",
    "val_set = DataGenerator('./mnist_train.csv',val_index,batch_size)\n",
    "\n",
    "model = Sequential()\n",
    "model.add(Input(shape=(784,)))\n",
    "model.add(Dense(512, activation='relu')) \n",
    "model.add(Dense(512, activation='relu')) \n",
    "model.add(Dense(10, activation='softmax'))\n",
    "model.compile(optimizer='adam',loss= 'sparse_categorical_crossentropy',metrics=['accuracy'])\n",
    "\n",
    "epochs = 15\n",
    "for i_epoch in range(epochs):\n",
    "    print('[{}/{}]'.format(i_epoch,epochs))\n",
    "    model.fit(train_set, steps_per_epoch = len(train_set), epochs=1, validation_data = val_set,validation_steps=len(val_set))\n",
    "    train_set.shuffle()"
   ]
  },
  {
   "cell_type": "code",
   "execution_count": null,
   "metadata": {
    "colab": {
     "base_uri": "https://localhost:8080/"
    },
    "id": "H1nquKKIqRMO",
    "outputId": "e9b10f73-a29a-47ab-ac3f-6a97d54f1c6b"
   },
   "outputs": [
    {
     "name": "stdout",
     "output_type": "stream",
     "text": [
      "[0/50],val_acc:0.0\n",
      "[0/50],val_acc:0.5\n",
      "[0/50],val_acc:0.6666666865348816\n",
      "[0/50],val_acc:0.75\n",
      "[0/50],val_acc:0.6000000238418579\n",
      "[0/50],val_acc:0.6666666865348816\n",
      "[0/50],val_acc:0.5714285969734192\n",
      "[0/50],val_acc:0.625\n",
      "[0/50],val_acc:0.6666666865348816\n",
      "[0/50],val_acc:0.699999988079071\n",
      "[0/50],val_acc:0.7272727489471436\n",
      "[0/50],val_acc:0.75\n",
      "[0/50],val_acc:0.7692307829856873\n",
      "[0/50],val_acc:0.7857142686843872\n",
      "[0/50],val_acc:0.800000011920929\n",
      "[0/50],val_acc:0.8125\n",
      "[0/50],val_acc:0.8235294222831726\n",
      "[0/50],val_acc:0.8333333134651184\n",
      "[0/50],val_acc:0.7894737124443054\n",
      "[0/50],val_acc:0.800000011920929\n",
      "[0/50],val_acc:0.8095238208770752\n",
      "[0/50],val_acc:0.7727272510528564\n",
      "[0/50],val_acc:0.739130437374115\n",
      "[0/50],val_acc:0.7083333134651184\n",
      "[0/50],val_acc:0.7200000286102295\n",
      "[0/50],val_acc:0.7307692170143127\n",
      "[0/50],val_acc:0.7037037014961243\n",
      "[0/50],val_acc:0.7142857313156128\n",
      "[0/50],val_acc:0.7241379022598267\n",
      "[0/50],val_acc:0.7333333492279053\n",
      "[0/50],val_acc:0.7096773982048035\n",
      "[0/50],val_acc:0.71875\n",
      "[0/50],val_acc:0.6969696879386902\n",
      "[0/50],val_acc:0.6764705777168274\n",
      "[0/50],val_acc:0.6857143044471741\n",
      "[0/50],val_acc:0.6666666865348816\n",
      "[0/50],val_acc:0.6486486196517944\n",
      "[0/50],val_acc:0.6578947305679321\n",
      "[0/50],val_acc:0.6410256624221802\n",
      "[0/50],val_acc:0.6499999761581421\n",
      "[0/50],val_acc:0.6585366129875183\n",
      "[0/50],val_acc:0.6666666865348816\n",
      "[0/50],val_acc:0.6744186282157898\n",
      "[0/50],val_acc:0.6818181872367859\n",
      "[0/50],val_acc:0.6666666865348816\n",
      "[1/50],val_acc:0.6521739363670349\n",
      "[1/50],val_acc:0.6595744490623474\n",
      "[1/50],val_acc:0.6666666865348816\n",
      "[1/50],val_acc:0.6734693646430969\n",
      "[1/50],val_acc:0.6800000071525574\n",
      "[1/50],val_acc:0.686274528503418\n",
      "[1/50],val_acc:0.6730769276618958\n",
      "[1/50],val_acc:0.6792452931404114\n",
      "[1/50],val_acc:0.6851851940155029\n",
      "[1/50],val_acc:0.6909090876579285\n",
      "[1/50],val_acc:0.6964285969734192\n",
      "[1/50],val_acc:0.7017543911933899\n",
      "[1/50],val_acc:0.7068965435028076\n",
      "[1/50],val_acc:0.7118644118309021\n",
      "[1/50],val_acc:0.7166666388511658\n",
      "[1/50],val_acc:0.7213114500045776\n",
      "[1/50],val_acc:0.725806474685669\n",
      "[1/50],val_acc:0.7301587462425232\n",
      "[1/50],val_acc:0.734375\n",
      "[1/50],val_acc:0.7384615540504456\n",
      "[1/50],val_acc:0.7424242496490479\n",
      "[1/50],val_acc:0.7313432693481445\n",
      "[1/50],val_acc:0.7352941036224365\n",
      "[1/50],val_acc:0.7246376872062683\n",
      "[1/50],val_acc:0.7285714149475098\n",
      "[1/50],val_acc:0.7323943376541138\n",
      "[1/50],val_acc:0.7222222089767456\n",
      "[1/50],val_acc:0.7260273694992065\n",
      "[1/50],val_acc:0.7297297120094299\n",
      "[1/50],val_acc:0.7333333492279053\n",
      "[1/50],val_acc:0.7368420958518982\n",
      "[1/50],val_acc:0.7402597665786743\n",
      "[1/50],val_acc:0.7435897588729858\n",
      "[1/50],val_acc:0.746835470199585\n",
      "[1/50],val_acc:0.75\n",
      "[1/50],val_acc:0.7530864477157593\n",
      "[1/50],val_acc:0.7560975551605225\n",
      "[1/50],val_acc:0.759036123752594\n",
      "[1/50],val_acc:0.75\n",
      "[1/50],val_acc:0.7529411911964417\n",
      "[1/50],val_acc:0.7441860437393188\n",
      "[1/50],val_acc:0.7471264600753784\n",
      "[1/50],val_acc:0.75\n",
      "[1/50],val_acc:0.7415730357170105\n",
      "[1/50],val_acc:0.7444444298744202\n",
      "[2/50],val_acc:0.7472527623176575\n",
      "[2/50],val_acc:0.75\n",
      "[2/50],val_acc:0.7419354915618896\n",
      "[2/50],val_acc:0.7446808218955994\n",
      "[2/50],val_acc:0.7473683953285217\n",
      "[2/50],val_acc:0.7395833134651184\n",
      "[2/50],val_acc:0.7319587469100952\n",
      "[2/50],val_acc:0.7346938848495483\n",
      "[2/50],val_acc:0.7373737096786499\n",
      "[2/50],val_acc:0.7400000095367432\n",
      "[2/50],val_acc:0.7425742745399475\n",
      "[2/50],val_acc:0.7450980544090271\n",
      "[2/50],val_acc:0.7475728392601013\n",
      "[2/50],val_acc:0.75\n",
      "[2/50],val_acc:0.7523809671401978\n",
      "[2/50],val_acc:0.7452830076217651\n",
      "[2/50],val_acc:0.7476635575294495\n",
      "[2/50],val_acc:0.75\n",
      "[2/50],val_acc:0.752293586730957\n",
      "[2/50],val_acc:0.7545454502105713\n",
      "[2/50],val_acc:0.7567567825317383\n",
      "[2/50],val_acc:0.75\n",
      "[2/50],val_acc:0.7433628439903259\n",
      "[2/50],val_acc:0.7368420958518982\n",
      "[2/50],val_acc:0.739130437374115\n",
      "[2/50],val_acc:0.7413793206214905\n",
      "[2/50],val_acc:0.7435897588729858\n",
      "[2/50],val_acc:0.7457627058029175\n",
      "[2/50],val_acc:0.7478991746902466\n",
      "[2/50],val_acc:0.75\n",
      "[2/50],val_acc:0.7520661354064941\n",
      "[2/50],val_acc:0.7459016442298889\n",
      "[2/50],val_acc:0.7479674816131592\n",
      "[2/50],val_acc:0.75\n",
      "[2/50],val_acc:0.7519999742507935\n",
      "[2/50],val_acc:0.7539682388305664\n",
      "[2/50],val_acc:0.7559055089950562\n",
      "[2/50],val_acc:0.7578125\n",
      "[2/50],val_acc:0.7596899271011353\n",
      "[2/50],val_acc:0.7538461685180664\n",
      "[2/50],val_acc:0.7480915784835815\n",
      "[2/50],val_acc:0.75\n",
      "[2/50],val_acc:0.7518796920776367\n",
      "[2/50],val_acc:0.753731369972229\n",
      "[2/50],val_acc:0.7481481432914734\n"
     ]
    }
   ],
   "source": [
    "import pandas as pd\n",
    "import keras\n",
    "from keras.models import Sequential\n",
    "from keras.layers import Dense,Input\n",
    "\n",
    "import numpy as np\n",
    "import linecache\n",
    "import random\n",
    "import tensorflow as tf\n",
    "\n",
    "class DataGenerator(keras.utils.all_utils.Sequence):\n",
    "#   'Generates data for Keras'\n",
    "    def __init__(self, csv_path, indexes, bs):\n",
    "    # initilizes some variables \n",
    "        self.csv_path = csv_path\n",
    "        self.norm_facor = 255.0\n",
    "        self.indexes = indexes\n",
    "        self.bs = bs\n",
    "        random.shuffle(self.indexes)\n",
    "    def __len__(self):\n",
    "    # return the total number of samples in the dataset\n",
    "        return (len(self.indexes))//self.bs-1\n",
    "    def __getitem__(self,index):\n",
    "    # get one sample according to the index\n",
    "        feat_all = []\n",
    "        label_all = []\n",
    "        for this_index in range(index*self.bs,(index+1)*self.bs):\n",
    "            line_index = self.indexes[index]\n",
    "            line_str = linecache.getline(self.csv_path,line_index)\n",
    "#             line_str.replace('[','').replace(']', '')\n",
    "#             print(line_str)\n",
    "            line_val = [int(i) for i in line_str.split(',') if len(i)]\n",
    "#             print(line_val)\n",
    "            label = line_val[0]\n",
    "            feat = np.array(line_val[1:])/self.norm_facor\n",
    "            feat_all.append(feat)\n",
    "            label_all.append(label)\n",
    "\n",
    "        return np.array(feat_all),np.array(label_all)\n",
    "    def shuffle(self):\n",
    "        random.shuffle(self.indexes)\n",
    "\n",
    "indexes = [i for i in range(60000)]\n",
    "train_index = indexes[6000:]\n",
    "val_index = indexes[:6000]\n",
    "batch_size = 128\n",
    "train_set = DataGenerator('./mnist_train.csv',train_index,batch_size)\n",
    "val_set = DataGenerator('./mnist_train.csv',val_index,batch_size)\n",
    "\n",
    "model = Sequential()\n",
    "model.add(Input(shape=(784,)))\n",
    "model.add(Dense(512, activation='relu')) \n",
    "model.add(Dense(512, activation='relu')) \n",
    "model.add(Dense(10, activation='softmax'))\n",
    "model.compile(optimizer='adam',loss= 'sparse_categorical_crossentropy',metrics=['accuracy'])\n",
    "\n",
    "loss_fn = keras.losses.SparseCategoricalCrossentropy()\n",
    "# optimizer = keras.optimizer_v1.Adam()\n",
    "optimizer = tf.keras.optimizers.Adam()\n",
    "val_acc_metric = keras.metrics.SparseCategoricalAccuracy()\n",
    "epochs = 50\n",
    "best_metric = 100\n",
    "for epoch in range(epochs):\n",
    "    train_set.shuffle()\n",
    "    for step, (x_batch_train, y_batch_train) in enumerate(train_set):\n",
    "        with tf.GradientTape() as tape:\n",
    "            logits = model(x_batch_train, training=True)\n",
    "            loss_value = loss_fn(y_batch_train, logits)\n",
    "        grads = tape.gradient(loss_value, model.trainable_weights)\n",
    "        optimizer.apply_gradients(zip(grads, model.trainable_weights))\n",
    "    for x_batch_val, y_batch_val in val_set:\n",
    "        val_logits = model(x_batch_val, training=False)\n",
    "        val_acc_metric.update_state(y_batch_val, val_logits)\n",
    "        val_acc = val_acc_metric.result()\n",
    "        print(\"[{}/{}],val_acc:{}\".format(epoch,epochs,float(val_acc)))\n",
    "        if float(val_acc) > best_metric:\n",
    "            best_metric = float(val_acc)\n",
    "            model.save('path_to_location.h5')\n",
    "            val_acc_metric.reset_states()\n",
    "\n"
   ]
  },
  {
   "cell_type": "code",
   "execution_count": null,
   "metadata": {
    "id": "_2yIr1ICW7Bx"
   },
   "outputs": [],
   "source": [
    "p"
   ]
  },
  {
   "cell_type": "code",
   "execution_count": null,
   "metadata": {},
   "outputs": [],
   "source": []
  },
  {
   "cell_type": "code",
   "execution_count": 59,
   "metadata": {},
   "outputs": [],
   "source": [
    "from keras.layers import Dense,LSTM,Conv2D,MaxPool2D,Input,Add,ReLU,Reshape,Flatten,Concatenate,concatenate\n",
    "from keras.models import Sequential, Model\n",
    "import keras\n",
    "import numpy as np"
   ]
  },
  {
   "cell_type": "code",
   "execution_count": 10,
   "metadata": {},
   "outputs": [
    {
     "name": "stdout",
     "output_type": "stream",
     "text": [
      "(1, 100, 128)\n",
      "(1, 100, 512)\n",
      "(1, 512)\n"
     ]
    }
   ],
   "source": [
    "x= keras.backend.constant(np.random.randn(1,100,128))\n",
    "lstm_layer1= LSTM(512,return_sequences=True)\n",
    "lstm_layer2=LSTM(512,return_sequences=False)\n",
    "y1= lstm_layer1(x)\n",
    "y2= lstm_layer2(x)\n",
    "for ii in [x,y1,y2]:\n",
    "    print(ii.shape)\n"
   ]
  },
  {
   "cell_type": "code",
   "execution_count": 14,
   "metadata": {},
   "outputs": [
    {
     "name": "stdout",
     "output_type": "stream",
     "text": [
      "(16, 28, 28, 1)\n",
      "(16, 27, 27, 16)\n",
      "(16, 25, 25, 32)\n"
     ]
    }
   ],
   "source": [
    "x=keras.backend.constant(np.random.randn(16,28,28,1))\n",
    "n_filter=16\n",
    "filter_size=2\n",
    "cnn_layer1=Conv2D(n_filter,filter_size,input_shape=(28,28,1))\n",
    "y1=cnn_layer1(x)\n",
    "n_filter=32\n",
    "filter_size=4\n",
    "cnn_layer2=Conv2D(n_filter,filter_size,input_shape=(28,28,1))\n",
    "y2=cnn_layer2(x)\n",
    "for ii in [x,y1,y2]:\n",
    "    print(ii.shape)"
   ]
  },
  {
   "cell_type": "code",
   "execution_count": 18,
   "metadata": {},
   "outputs": [
    {
     "name": "stdout",
     "output_type": "stream",
     "text": [
      "(16, 28, 28, 1)\n",
      "(16, 25, 25, 32)\n",
      "(16, 12, 12, 32)\n"
     ]
    }
   ],
   "source": [
    "x=keras.backend.constant(np.random.randn(16,28,28,1))\n",
    "n_filter=32\n",
    "filter_size=4\n",
    "cnn_layer2=Conv2D(n_filter,filter_size,input_shape=(28,28,1))\n",
    "y1=cnn_layer2(x)\n",
    "pooling_layer=MaxPool2D(2)\n",
    "y2=pooling_layer(y1)\n",
    "for ii in [x,y1,y2]:\n",
    "    print(ii.shape)\n"
   ]
  },
  {
   "cell_type": "code",
   "execution_count": 31,
   "metadata": {},
   "outputs": [
    {
     "name": "stdout",
     "output_type": "stream",
     "text": [
      "Model: \"sequential_1\"\n",
      "_________________________________________________________________\n",
      " Layer (type)                Output Shape              Param #   \n",
      "=================================================================\n",
      " reshape_3 (Reshape)         (None, 64, 64, 16)        0         \n",
      "                                                                 \n",
      " conv2d_10 (Conv2D)          (None, 60, 60, 32)        12832     \n",
      "                                                                 \n",
      " max_pooling2d_4 (MaxPooling  (None, 30, 30, 32)       0         \n",
      " 2D)                                                             \n",
      "                                                                 \n",
      " conv2d_11 (Conv2D)          (None, 30, 30, 1)         33        \n",
      "                                                                 \n",
      " flatten_3 (Flatten)         (None, 900)               0         \n",
      "                                                                 \n",
      " dense_3 (Dense)             (None, 16)                14416     \n",
      "                                                                 \n",
      "=================================================================\n",
      "Total params: 27,281\n",
      "Trainable params: 27,281\n",
      "Non-trainable params: 0\n",
      "_________________________________________________________________\n"
     ]
    }
   ],
   "source": [
    "x=keras.backend.constant(np.random.randn(256,256))\n",
    "layer = [\n",
    "    Input(shape=(256,256,1)),\n",
    "    Reshape((64,64,-1)),\n",
    "    Conv2D(32,5),\n",
    "    MaxPool2D(2),\n",
    "    Conv2D(1,1),\n",
    "    Flatten(),\n",
    "    Dense(16, activation='sigmoid')\n",
    "]\n",
    "model = Sequential(layer)\n",
    "model.summary()"
   ]
  },
  {
   "cell_type": "code",
   "execution_count": 49,
   "metadata": {},
   "outputs": [
    {
     "name": "stdout",
     "output_type": "stream",
     "text": [
      "Model: \"sequential_32\"\n",
      "_________________________________________________________________\n",
      " Layer (type)                Output Shape              Param #   \n",
      "=================================================================\n",
      " reshape_20 (Reshape)        (None, 64, 64, 16)        0         \n",
      "                                                                 \n",
      " conv2d_44 (Conv2D)          (None, 60, 60, 8)         3208      \n",
      "                                                                 \n",
      "=================================================================\n",
      "Total params: 3,208\n",
      "Trainable params: 3,208\n",
      "Non-trainable params: 0\n",
      "_________________________________________________________________\n",
      "None\n",
      "Model: \"sequential_33\"\n",
      "_________________________________________________________________\n",
      " Layer (type)                Output Shape              Param #   \n",
      "=================================================================\n",
      " conv2d_45 (Conv2D)          (None, 240, 240, 8)       2320      \n",
      "                                                                 \n",
      " max_pooling2d_21 (MaxPoolin  (None, 60, 60, 8)        0         \n",
      " g2D)                                                            \n",
      "                                                                 \n",
      "=================================================================\n",
      "Total params: 2,320\n",
      "Trainable params: 2,320\n",
      "Non-trainable params: 0\n",
      "_________________________________________________________________\n",
      "None\n"
     ]
    },
    {
     "data": {
      "text/plain": [
       "TensorShape([None, 60, 60, 16])"
      ]
     },
     "execution_count": 49,
     "metadata": {},
     "output_type": "execute_result"
    }
   ],
   "source": [
    "layer1 = [\n",
    "    Input(shape=(256,256,1)),\n",
    "    Reshape((64,64,-1)),\n",
    "    Conv2D(8,5),\n",
    "]\n",
    "\n",
    "layer2 = [\n",
    "    Input(shape=(256,256,1)),\n",
    "    Conv2D(filters=8,kernel_size=17),\n",
    "    MaxPool2D(pool_size=4)\n",
    "]\n",
    "\n",
    "\n",
    "model1 = Sequential(layer1)\n",
    "model2 = Sequential(layer2)\n",
    "print(model1.summary())\n",
    "print(model2.summary())\n",
    "merged = Concatenate()([model1.output, model2.output])\n",
    "merged.shape"
   ]
  },
  {
   "cell_type": "code",
   "execution_count": 60,
   "metadata": {},
   "outputs": [
    {
     "name": "stdout",
     "output_type": "stream",
     "text": [
      "Model: \"model\"\n",
      "__________________________________________________________________________________________________\n",
      " Layer (type)                   Output Shape         Param #     Connected to                     \n",
      "==================================================================================================\n",
      " input_44 (InputLayer)          [(None, 256, 256, 1  0           []                               \n",
      "                                )]                                                                \n",
      "                                                                                                  \n",
      " reshape_27 (Reshape)           (None, 64, 64, 16)   0           ['input_44[0][0]']               \n",
      "                                                                                                  \n",
      " conv2d_59 (Conv2D)             (None, 240, 240, 8)  2320        ['input_44[0][0]']               \n",
      "                                                                                                  \n",
      " conv2d_58 (Conv2D)             (None, 60, 60, 8)    3208        ['reshape_27[0][0]']             \n",
      "                                                                                                  \n",
      " max_pooling2d_28 (MaxPooling2D  (None, 60, 60, 8)   0           ['conv2d_59[0][0]']              \n",
      " )                                                                                                \n",
      "                                                                                                  \n",
      " concatenate_17 (Concatenate)   (None, 60, 60, 16)   0           ['conv2d_58[0][0]',              \n",
      "                                                                  'max_pooling2d_28[0][0]']       \n",
      "                                                                                                  \n",
      "==================================================================================================\n",
      "Total params: 5,528\n",
      "Trainable params: 5,528\n",
      "Non-trainable params: 0\n",
      "__________________________________________________________________________________________________\n"
     ]
    }
   ],
   "source": [
    "def new_model():\n",
    "    i = Input(shape=(256,256,1))\n",
    "    r = Reshape((64,64,-1))\n",
    "    c1 = Conv2D(8,5)\n",
    "    c2 = Conv2D(8,17)\n",
    "    m2 = MaxPool2D(pool_size=4)\n",
    "    rr = r(i)\n",
    "    c1o = c1(rr)\n",
    "    c2o = c2(i)\n",
    "    mxo = m2(c2o)\n",
    "    out = concatenate([c1o, mxo], axis=-1)\n",
    "    \n",
    "    model = Model(inputs=i, outputs=out)\n",
    "    return model\n",
    "new_model().summary()"
   ]
  },
  {
   "cell_type": "code",
   "execution_count": 68,
   "metadata": {},
   "outputs": [
    {
     "name": "stdout",
     "output_type": "stream",
     "text": [
      "tf.Tensor(1, shape=(), dtype=int32)\n",
      "1\n"
     ]
    }
   ],
   "source": [
    "import keras \n",
    "from keras.losses import MeanAbsoluteError, MeanSquaredError\n",
    "mse=MeanSquaredError()\n",
    "y_true = [[0,0.3],[0,1]]\n",
    "y_pred = [[1,1],[1,0]]\n",
    "z = mse(y_true, y_pred)\n",
    "print(z)\n",
    "print(z.numpy())"
   ]
  },
  {
   "cell_type": "code",
   "execution_count": 69,
   "metadata": {},
   "outputs": [],
   "source": [
    "def convert(imgf, labelf, outf, n):\n",
    "    f = open(imgf, \"rb\")\n",
    "    o = open(outf, \"w\")\n",
    "    l = open(labelf, \"rb\")\n",
    "\n",
    "    f.read(16)\n",
    "    l.read(8)\n",
    "    images = []\n",
    "\n",
    "    for i in range(n):\n",
    "        image = [ord(l.read(1))]\n",
    "        for j in range(28*28):\n",
    "            image.append(ord(f.read(1)))\n",
    "        images.append(image)\n",
    "\n",
    "    for image in images:\n",
    "        o.write(\",\".join(str(pix) for pix in image)+\"\\n\")\n",
    "    f.close()\n",
    "    o.close()\n",
    "    l.close()\n",
    "\n",
    "convert(\"train-images.idx3-ubyte\", \"train-labels.idx1-ubyte\",\"mnist_train.csv\", 60000)\n",
    "convert(\"t10k-images.idx3-ubyte\", \"t10k-labels.idx1-ubyte\",\"mnist_test.csv\", 10000)\n"
   ]
  },
  {
   "cell_type": "code",
   "execution_count": null,
   "metadata": {},
   "outputs": [],
   "source": []
  },
  {
   "cell_type": "code",
   "execution_count": null,
   "metadata": {},
   "outputs": [],
   "source": []
  },
  {
   "cell_type": "code",
   "execution_count": null,
   "metadata": {},
   "outputs": [],
   "source": []
  },
  {
   "cell_type": "code",
   "execution_count": null,
   "metadata": {},
   "outputs": [],
   "source": []
  },
  {
   "cell_type": "code",
   "execution_count": null,
   "metadata": {},
   "outputs": [],
   "source": []
  },
  {
   "cell_type": "code",
   "execution_count": null,
   "metadata": {},
   "outputs": [],
   "source": []
  },
  {
   "cell_type": "code",
   "execution_count": null,
   "metadata": {},
   "outputs": [],
   "source": []
  },
  {
   "cell_type": "code",
   "execution_count": null,
   "metadata": {},
   "outputs": [],
   "source": []
  },
  {
   "cell_type": "code",
   "execution_count": null,
   "metadata": {},
   "outputs": [],
   "source": []
  },
  {
   "cell_type": "code",
   "execution_count": null,
   "metadata": {},
   "outputs": [],
   "source": []
  },
  {
   "cell_type": "code",
   "execution_count": null,
   "metadata": {},
   "outputs": [],
   "source": []
  },
  {
   "cell_type": "code",
   "execution_count": null,
   "metadata": {},
   "outputs": [],
   "source": []
  },
  {
   "cell_type": "code",
   "execution_count": null,
   "metadata": {},
   "outputs": [],
   "source": []
  },
  {
   "cell_type": "code",
   "execution_count": null,
   "metadata": {},
   "outputs": [],
   "source": []
  },
  {
   "cell_type": "code",
   "execution_count": null,
   "metadata": {},
   "outputs": [],
   "source": []
  },
  {
   "cell_type": "code",
   "execution_count": null,
   "metadata": {},
   "outputs": [],
   "source": []
  },
  {
   "cell_type": "code",
   "execution_count": null,
   "metadata": {},
   "outputs": [],
   "source": []
  },
  {
   "cell_type": "code",
   "execution_count": null,
   "metadata": {},
   "outputs": [],
   "source": []
  },
  {
   "cell_type": "code",
   "execution_count": null,
   "metadata": {},
   "outputs": [],
   "source": []
  }
 ],
 "metadata": {
  "colab": {
   "provenance": []
  },
  "kernelspec": {
   "display_name": "Python 3",
   "language": "python",
   "name": "python3"
  },
  "language_info": {
   "codemirror_mode": {
    "name": "ipython",
    "version": 3
   },
   "file_extension": ".py",
   "mimetype": "text/x-python",
   "name": "python",
   "nbconvert_exporter": "python",
   "pygments_lexer": "ipython3",
   "version": "3.8.8"
  }
 },
 "nbformat": 4,
 "nbformat_minor": 1
}
