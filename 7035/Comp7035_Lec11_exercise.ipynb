{
 "cells": [
  {
   "cell_type": "code",
   "execution_count": null,
   "metadata": {},
   "outputs": [],
   "source": [
    "# Define the model using functional API:\n",
    "from keras.models import Model\n",
    "from keras.layers import Dense,Input,Add,ReLU\n",
    "\n",
    "def Resnet_module():\n",
    "  input_tensor = Input(shape=(256,))\n",
    "  #  define layers\n",
    "  layer1 =  Dense(256, activation='relu')\n",
    "  layer2 =  Dense(256)\n",
    "\n",
    "  # define operations\n",
    "  fx = layer1(input_tensor)\n",
    "  fx = layer2(fx)\n",
    "  y = Add()([fx,input_tensor])\n",
    "  y_out = ReLU()(y)\n",
    "  model = Model(inputs=input_tensor, outputs=y_out)\n",
    "\n",
    "  return model\n",
    "\n",
    "x = Input(shape=(256,))\n",
    "y=x\n",
    "for ii in range(80):\n",
    "  y = Resnet_module()(y)\n",
    "resnet = Model(inputs=x, outputs=y)\n",
    "resnet.summary()\n",
    "\n"
   ]
  }
 ],
 "metadata": {
  "language_info": {
   "name": "python"
  },
  "orig_nbformat": 4
 },
 "nbformat": 4,
 "nbformat_minor": 2
}
